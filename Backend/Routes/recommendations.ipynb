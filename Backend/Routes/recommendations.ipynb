{
 "cells": [
  {
   "cell_type": "code",
   "execution_count": 132,
   "metadata": {},
   "outputs": [],
   "source": [
    "from flask import Flask, request, jsonify\n",
    "from flask_jwt_extended import JWTManager, jwt_required, get_jwt_identity\n",
    "import mysql.connector\n",
    "import pandas as pd\n",
    "from sklearn.feature_extraction.text import TfidfVectorizer\n",
    "from sklearn.metrics.pairwise import cosine_similarity\n",
    "from werkzeug.serving import run_simple\n",
    "import mysql.connector\n",
    "\n"
   ]
  },
  {
   "cell_type": "code",
   "execution_count": 133,
   "metadata": {},
   "outputs": [],
   "source": [
    "app = Flask(__name__)\n",
    "app.config['JWT_SECRET_KEY'] = 'jwt-secret-key'  \n",
    "jwt = JWTManager(app)\n"
   ]
  },
  {
   "cell_type": "code",
   "execution_count": 134,
   "metadata": {},
   "outputs": [
    {
     "name": "stdout",
     "output_type": "stream",
     "text": [
      "Connected to the database\n"
     ]
    }
   ],
   "source": [
    "db_config = {\n",
    "    'host': 'localhost',\n",
    "    'user': 'root',\n",
    "    'password': '',\n",
    "    'database': 'authentication'\n",
    "}\n",
    "\n",
    "try:\n",
    "    conn = mysql.connector.connect(**db_config)\n",
    "    if conn.is_connected():\n",
    "        print(\"Connected to the database\")\n",
    "    conn.close()\n",
    "except mysql.connector.Error as err:\n",
    "    print(f\"Error: {err}\")"
   ]
  },
  {
   "cell_type": "code",
   "execution_count": 135,
   "metadata": {},
   "outputs": [],
   "source": [
    "def get_data_from_db(query, params=None):\n",
    "    try:\n",
    "        conn = mysql.connector.connect(**db_config)\n",
    "        cursor = conn.cursor(dictionary=True)\n",
    "        if params:\n",
    "            cursor.execute(query, params)\n",
    "        else:\n",
    "            cursor.execute(query)\n",
    "        data = cursor.fetchall()\n",
    "        cursor.close()\n",
    "        conn.close()\n",
    "        return pd.DataFrame(data)\n",
    "    except mysql.connector.Error as err:\n",
    "        print(f\"Error: {err}\")\n",
    "        return pd.DataFrame()"
   ]
  },
  {
   "cell_type": "code",
   "execution_count": 136,
   "metadata": {},
   "outputs": [],
   "source": [
    "@app.route('/fetch_volunteers', methods=['GET'])\n",
    "def fetch_volunteers():\n",
    "    query = \"SELECT id, name, skills, availability FROM users\"\n",
    "    volunteers = get_data_from_db(query)\n",
    "    return volunteers.to_json(orient='records'), 200"
   ]
  },
  {
   "cell_type": "code",
   "execution_count": 137,
   "metadata": {},
   "outputs": [],
   "source": [
    "@app.route('/fetch_opportunities', methods=['GET'])\n",
    "def fetch_opportunities():\n",
    "    query = \"SELECT id, title, skills, availability FROM opportunities\"\n",
    "    opportunities = get_data_from_db(query)\n",
    "    return opportunities.to_json(orient='records'), 200"
   ]
  },
  {
   "cell_type": "code",
   "execution_count": 138,
   "metadata": {},
   "outputs": [],
   "source": [
    "def calculate_availability_match(vol_avail, opp_avail):\n",
    "    if vol_avail == 'flexible' or opp_avail == 'flexible':\n",
    "        return 1.0\n",
    "    elif vol_avail == opp_avail:\n",
    "        return 1.0\n",
    "    else:\n",
    "        return 0.0"
   ]
  },
  {
   "cell_type": "code",
   "execution_count": 139,
   "metadata": {},
   "outputs": [],
   "source": [
    "def match_opportunities(volunteer, opportunities):\n",
    "    # Prepare TF-IDF vectorizer\n",
    "    tfidf = TfidfVectorizer()\n",
    "    \n",
    "    # Combine volunteer skills into a single string\n",
    "    volunteer_skills = ' '.join(volunteer['skills'].split(','))\n",
    "    \n",
    "    # Prepare opportunity skills\n",
    "    opportunities['all_skills'] = opportunities['skills'].apply(lambda x: ' '.join(x.split(',')))\n",
    "    \n",
    "    # Fit and transform the TF-IDF vectorizer\n",
    "    all_skills = [volunteer_skills] + opportunities['all_skills'].tolist()\n",
    "    tfidf_matrix = tfidf.fit_transform(all_skills)\n",
    "    \n",
    "    # Calculate cosine similarity\n",
    "    cosine_similarities = cosine_similarity(tfidf_matrix[0:1], tfidf_matrix[1:]).flatten()\n",
    "    \n",
    "    # Calculate availability match\n",
    "    availability_matches = opportunities['availability'].apply(\n",
    "        lambda x: calculate_availability_match(volunteer['availability'], x)\n",
    "    )\n",
    "    \n",
    "    # Combine similarity scores and availability matches\n",
    "    opportunities['skill_similarity'] = cosine_similarities\n",
    "    opportunities['availability_match'] = availability_matches\n",
    "    opportunities['total_score'] = (opportunities['skill_similarity'] + opportunities['availability_match']) / 2\n",
    "    \n",
    "    # Sort opportunities by total score in descending order\n",
    "    sorted_opportunities = opportunities.sort_values('total_score', ascending=False)\n",
    "    \n",
    "    # Classify opportunities as matched or unmatched\n",
    "    threshold = 0.5  # Adjust this threshold as needed\n",
    "    sorted_opportunities['matched'] = sorted_opportunities['total_score'] > threshold\n",
    "    \n",
    "    return sorted_opportunities"
   ]
  },
  {
   "cell_type": "code",
   "execution_count": 140,
   "metadata": {},
   "outputs": [],
   "source": [
    "@app.route('/recommendations', methods=['GET'])\n",
    "@jwt_required()\n",
    "def get_recommendations():\n",
    "    current_user_id = get_jwt_identity()\n",
    "    \n",
    "    # Fetch volunteer data\n",
    "    volunteer_query = \"SELECT id, name, skills, availability FROM users WHERE id = %s\"\n",
    "    volunteer = get_data_from_db(volunteer_query, (current_user_id,)).iloc[0]\n",
    "    \n",
    "    # Fetch all opportunities\n",
    "    opportunities_query = \"SELECT id, title, skills, availability FROM opportunities\"\n",
    "    opportunities = get_data_from_db(opportunities_query)\n",
    "    \n",
    "    if opportunities.empty:\n",
    "        return jsonify({\"error\": \"No opportunities found\"}), 404\n",
    "    \n",
    "    # Match opportunities\n",
    "    matched_opportunities = match_opportunities(volunteer, opportunities)\n",
    "    \n",
    "    # Prepare the response\n",
    "    response = {\n",
    "        \"matched_opportunities\": matched_opportunities[matched_opportunities['matched']].to_dict(orient='records'),\n",
    "        \"unmatched_opportunities\": matched_opportunities[~matched_opportunities['matched']].to_dict(orient='records')\n",
    "    }\n",
    "    \n",
    "    return jsonify(response), 200\n"
   ]
  },
  {
   "cell_type": "code",
   "execution_count": 141,
   "metadata": {},
   "outputs": [
    {
     "name": "stderr",
     "output_type": "stream",
     "text": [
      "WARNING: This is a development server. Do not use it in a production deployment. Use a production WSGI server instead.\n",
      " * Running on http://localhost:5001\n",
      "Press CTRL+C to quit\n"
     ]
    }
   ],
   "source": [
    "if __name__ == \"__main__\":\n",
    "    run_simple('localhost', 5001, app, use_reloader=False, use_debugger=True)"
   ]
  }
 ],
 "metadata": {
  "kernelspec": {
   "display_name": "Python 3",
   "language": "python",
   "name": "python3"
  },
  "language_info": {
   "codemirror_mode": {
    "name": "ipython",
    "version": 3
   },
   "file_extension": ".py",
   "mimetype": "text/x-python",
   "name": "python",
   "nbconvert_exporter": "python",
   "pygments_lexer": "ipython3",
   "version": "3.12.4"
  }
 },
 "nbformat": 4,
 "nbformat_minor": 2
}
